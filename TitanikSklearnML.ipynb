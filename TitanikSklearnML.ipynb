{
 "cells": [
  {
   "cell_type": "markdown",
   "metadata": {
    "colab_type": "text",
    "id": "view-in-github"
   },
   "source": [
    "<a href=\"https://colab.research.google.com/github/nikitazhuikov/ML-projects/blob/main/TitanikSklearnML.ipynb\" target=\"_parent\"><img src=\"https://colab.research.google.com/assets/colab-badge.svg\" alt=\"Open In Colab\"/></a>"
   ]
  },
  {
   "cell_type": "code",
   "execution_count": 216,
   "metadata": {
    "id": "i3kBDpK7XAJc"
   },
   "outputs": [],
   "source": [
    "import numpy as np\n",
    "import pandas as pd\n",
    "import seaborn as sns\n",
    "from sklearn.model_selection import train_test_split\n",
    "from sklearn.preprocessing import StandardScaler\n",
    "from sklearn.linear_model import LogisticRegression"
   ]
  },
  {
   "cell_type": "code",
   "execution_count": 217,
   "metadata": {
    "id": "jvV27j93X3Ie"
   },
   "outputs": [],
   "source": [
    "import mlflow\n",
    "import mlflow.sklearn\n",
    "from mlflow.models import infer_signature"
   ]
  },
  {
   "cell_type": "code",
   "execution_count": 218,
   "metadata": {
    "id": "R1ra_4N0XAJd"
   },
   "outputs": [],
   "source": [
    "titanic_df = pd.read_csv('Titanic-Dataset.csv', usecols=['Pclass', 'Survived', 'Sex', 'Age', 'SibSp', 'Parch', 'Fare', 'Embarked'])\n",
    "titanic_df['Sex'] = pd.factorize(titanic_df['Sex'])[0]\n",
    "titanic_df['Embarked'] = pd.factorize(titanic_df['Embarked'])[0]\n",
    "titanic_df = titanic_df.dropna()\n",
    "numerical_cols = titanic_df[['Age', 'Fare']].columns"
   ]
  },
  {
   "cell_type": "code",
   "execution_count": 219,
   "metadata": {
    "colab": {
     "base_uri": "https://localhost:8080/"
    },
    "id": "EvEUUpuPeUkm",
    "outputId": "90f9ab63-bd07-4369-b5de-bc9e749fb462"
   },
   "outputs": [],
   "source": [
    "# нормализация\n",
    "titanic_df[numerical_cols] = StandardScaler().fit_transform(titanic_df[numerical_cols])"
   ]
  },
  {
   "cell_type": "code",
   "execution_count": 220,
   "metadata": {},
   "outputs": [
    {
     "data": {
      "text/html": [
       "<div>\n",
       "<style scoped>\n",
       "    .dataframe tbody tr th:only-of-type {\n",
       "        vertical-align: middle;\n",
       "    }\n",
       "\n",
       "    .dataframe tbody tr th {\n",
       "        vertical-align: top;\n",
       "    }\n",
       "\n",
       "    .dataframe thead th {\n",
       "        text-align: right;\n",
       "    }\n",
       "</style>\n",
       "<table border=\"1\" class=\"dataframe\">\n",
       "  <thead>\n",
       "    <tr style=\"text-align: right;\">\n",
       "      <th></th>\n",
       "      <th>Survived</th>\n",
       "      <th>Pclass</th>\n",
       "      <th>Sex</th>\n",
       "      <th>Age</th>\n",
       "      <th>SibSp</th>\n",
       "      <th>Parch</th>\n",
       "      <th>Fare</th>\n",
       "      <th>Embarked</th>\n",
       "    </tr>\n",
       "  </thead>\n",
       "  <tbody>\n",
       "    <tr>\n",
       "      <th>0</th>\n",
       "      <td>0</td>\n",
       "      <td>3</td>\n",
       "      <td>0</td>\n",
       "      <td>-0.530377</td>\n",
       "      <td>1</td>\n",
       "      <td>0</td>\n",
       "      <td>-0.518978</td>\n",
       "      <td>0</td>\n",
       "    </tr>\n",
       "    <tr>\n",
       "      <th>1</th>\n",
       "      <td>1</td>\n",
       "      <td>1</td>\n",
       "      <td>1</td>\n",
       "      <td>0.571831</td>\n",
       "      <td>1</td>\n",
       "      <td>0</td>\n",
       "      <td>0.691897</td>\n",
       "      <td>1</td>\n",
       "    </tr>\n",
       "    <tr>\n",
       "      <th>2</th>\n",
       "      <td>1</td>\n",
       "      <td>3</td>\n",
       "      <td>1</td>\n",
       "      <td>-0.254825</td>\n",
       "      <td>0</td>\n",
       "      <td>0</td>\n",
       "      <td>-0.506214</td>\n",
       "      <td>0</td>\n",
       "    </tr>\n",
       "    <tr>\n",
       "      <th>3</th>\n",
       "      <td>1</td>\n",
       "      <td>1</td>\n",
       "      <td>1</td>\n",
       "      <td>0.365167</td>\n",
       "      <td>1</td>\n",
       "      <td>0</td>\n",
       "      <td>0.348049</td>\n",
       "      <td>0</td>\n",
       "    </tr>\n",
       "    <tr>\n",
       "      <th>4</th>\n",
       "      <td>0</td>\n",
       "      <td>3</td>\n",
       "      <td>0</td>\n",
       "      <td>0.365167</td>\n",
       "      <td>0</td>\n",
       "      <td>0</td>\n",
       "      <td>-0.503850</td>\n",
       "      <td>0</td>\n",
       "    </tr>\n",
       "    <tr>\n",
       "      <th>...</th>\n",
       "      <td>...</td>\n",
       "      <td>...</td>\n",
       "      <td>...</td>\n",
       "      <td>...</td>\n",
       "      <td>...</td>\n",
       "      <td>...</td>\n",
       "      <td>...</td>\n",
       "      <td>...</td>\n",
       "    </tr>\n",
       "    <tr>\n",
       "      <th>885</th>\n",
       "      <td>0</td>\n",
       "      <td>3</td>\n",
       "      <td>1</td>\n",
       "      <td>0.640719</td>\n",
       "      <td>0</td>\n",
       "      <td>5</td>\n",
       "      <td>-0.105320</td>\n",
       "      <td>2</td>\n",
       "    </tr>\n",
       "    <tr>\n",
       "      <th>886</th>\n",
       "      <td>0</td>\n",
       "      <td>2</td>\n",
       "      <td>0</td>\n",
       "      <td>-0.185937</td>\n",
       "      <td>0</td>\n",
       "      <td>0</td>\n",
       "      <td>-0.410245</td>\n",
       "      <td>0</td>\n",
       "    </tr>\n",
       "    <tr>\n",
       "      <th>887</th>\n",
       "      <td>1</td>\n",
       "      <td>1</td>\n",
       "      <td>1</td>\n",
       "      <td>-0.737041</td>\n",
       "      <td>0</td>\n",
       "      <td>0</td>\n",
       "      <td>-0.088774</td>\n",
       "      <td>0</td>\n",
       "    </tr>\n",
       "    <tr>\n",
       "      <th>889</th>\n",
       "      <td>1</td>\n",
       "      <td>1</td>\n",
       "      <td>0</td>\n",
       "      <td>-0.254825</td>\n",
       "      <td>0</td>\n",
       "      <td>0</td>\n",
       "      <td>-0.088774</td>\n",
       "      <td>1</td>\n",
       "    </tr>\n",
       "    <tr>\n",
       "      <th>890</th>\n",
       "      <td>0</td>\n",
       "      <td>3</td>\n",
       "      <td>0</td>\n",
       "      <td>0.158503</td>\n",
       "      <td>0</td>\n",
       "      <td>0</td>\n",
       "      <td>-0.509523</td>\n",
       "      <td>2</td>\n",
       "    </tr>\n",
       "  </tbody>\n",
       "</table>\n",
       "<p>714 rows × 8 columns</p>\n",
       "</div>"
      ],
      "text/plain": [
       "     Survived  Pclass  Sex       Age  SibSp  Parch      Fare  Embarked\n",
       "0           0       3    0 -0.530377      1      0 -0.518978         0\n",
       "1           1       1    1  0.571831      1      0  0.691897         1\n",
       "2           1       3    1 -0.254825      0      0 -0.506214         0\n",
       "3           1       1    1  0.365167      1      0  0.348049         0\n",
       "4           0       3    0  0.365167      0      0 -0.503850         0\n",
       "..        ...     ...  ...       ...    ...    ...       ...       ...\n",
       "885         0       3    1  0.640719      0      5 -0.105320         2\n",
       "886         0       2    0 -0.185937      0      0 -0.410245         0\n",
       "887         1       1    1 -0.737041      0      0 -0.088774         0\n",
       "889         1       1    0 -0.254825      0      0 -0.088774         1\n",
       "890         0       3    0  0.158503      0      0 -0.509523         2\n",
       "\n",
       "[714 rows x 8 columns]"
      ]
     },
     "execution_count": 220,
     "metadata": {},
     "output_type": "execute_result"
    }
   ],
   "source": [
    "titanic_df"
   ]
  },
  {
   "cell_type": "code",
   "execution_count": 221,
   "metadata": {
    "id": "B0mIya-qXAJf"
   },
   "outputs": [],
   "source": [
    "x = titanic_df.drop('Survived', axis = 1)"
   ]
  },
  {
   "cell_type": "code",
   "execution_count": 222,
   "metadata": {},
   "outputs": [
    {
     "data": {
      "text/plain": [
       "<Experiment: artifact_location='mlflow-artifacts:/189883142389238581', creation_time=1743612627305, experiment_id='189883142389238581', last_update_time=1743612627305, lifecycle_stage='active', name='log_reg', tags={}>"
      ]
     },
     "execution_count": 222,
     "metadata": {},
     "output_type": "execute_result"
    }
   ],
   "source": [
    "mlflow.set_tracking_uri(\"http://127.0.0.1:5001\")\n",
    "mlflow.set_experiment(\"log_reg\")\n"
   ]
  },
  {
   "cell_type": "code",
   "execution_count": 223,
   "metadata": {
    "id": "pkLl0wlPXAJf"
   },
   "outputs": [],
   "source": [
    "y = titanic_df['Survived']"
   ]
  },
  {
   "cell_type": "code",
   "execution_count": 224,
   "metadata": {
    "id": "S_lHVoAyXAJf"
   },
   "outputs": [],
   "source": [
    "x_train, x_test, y_train,  y_test = train_test_split(x, y, test_size=0.3)\n",
    "# x_val, x_test, y_val, y_test = train_test_split(x_test, y_test, test_size=0.5)"
   ]
  },
  {
   "cell_type": "code",
   "execution_count": 225,
   "metadata": {},
   "outputs": [
    {
     "name": "stdout",
     "output_type": "stream",
     "text": [
      "🏃 View run Log_reg_100 at: http://127.0.0.1:5001/#/experiments/189883142389238581/runs/c9e8333ee98a4a0d8b75be211e89bd28\n",
      "🧪 View experiment at: http://127.0.0.1:5001/#/experiments/189883142389238581\n"
     ]
    }
   ],
   "source": [
    "with mlflow.start_run(run_name=\"Log_reg_100\"):\n",
    "    mdl = LogisticRegression(max_iter=100)\n",
    "    mdl.fit(x_train, y_train)\n",
    "    y_pred = mdl.predict(x_test)\n",
    "    TP = ((y_test == 1) & (y_pred == 1)).sum()\n",
    "    TN = ((y_test == 0) & (y_pred == 0)).sum()\n",
    "    FP = ((y_test == 0) & (y_pred == 1)).sum()\n",
    "    FN = ((y_test == 1) & (y_pred == 0)).sum()\n",
    "    metrics = {\n",
    "        'accuracy': (TP + TN)/(TP + TN + FP + FN),\n",
    "        'precision': TP  / (TP + FP),\n",
    "        'recall': TP / (TP + FP),\n",
    "        'sensitivity': TP / (TP + FN)\n",
    "    }\n",
    "    mlflow.log_metrics(metrics)"
   ]
  },
  {
   "cell_type": "code",
   "execution_count": 226,
   "metadata": {
    "id": "BO6J1tjdOHRC"
   },
   "outputs": [],
   "source": [
    "accuracy = (TP + TN)/(TP + TN + FP + FN)\n",
    "precision = TP  / (TP + FP)\n",
    "recall = TP / (TP + FP)\n",
    "sensitivity = TP / (TP + FN)"
   ]
  },
  {
   "cell_type": "code",
   "execution_count": 227,
   "metadata": {
    "colab": {
     "base_uri": "https://localhost:8080/"
    },
    "id": "YZaXK89xQRCV",
    "outputId": "d2f37fcb-cc83-4f72-f8f2-0e4550caaec6"
   },
   "outputs": [
    {
     "name": "stdout",
     "output_type": "stream",
     "text": [
      "accuracy: 0.827906976744186\n",
      "precision: 0.7209302325581395\n",
      "recall: 0.7209302325581395\n",
      "sensitivity: 0.8266666666666667\n"
     ]
    }
   ],
   "source": [
    "print('accuracy:', accuracy)\n",
    "print('precision:', precision)\n",
    "print('recall:', recall)\n",
    "print('sensitivity:', sensitivity)"
   ]
  },
  {
   "cell_type": "code",
   "execution_count": 241,
   "metadata": {
    "id": "lU4DPXWSXAJv"
   },
   "outputs": [],
   "source": [
    "# считаем ROC-AUC\n",
    "y_pred_proba = mdl.predict_proba(x_test)[:, 1]"
   ]
  },
  {
   "cell_type": "code",
   "execution_count": 245,
   "metadata": {},
   "outputs": [
    {
     "data": {
      "text/html": [
       "<div>\n",
       "<style scoped>\n",
       "    .dataframe tbody tr th:only-of-type {\n",
       "        vertical-align: middle;\n",
       "    }\n",
       "\n",
       "    .dataframe tbody tr th {\n",
       "        vertical-align: top;\n",
       "    }\n",
       "\n",
       "    .dataframe thead th {\n",
       "        text-align: right;\n",
       "    }\n",
       "</style>\n",
       "<table border=\"1\" class=\"dataframe\">\n",
       "  <thead>\n",
       "    <tr style=\"text-align: right;\">\n",
       "      <th></th>\n",
       "      <th>Actual</th>\n",
       "      <th>Predicted</th>\n",
       "      <th>Probability</th>\n",
       "    </tr>\n",
       "  </thead>\n",
       "  <tbody>\n",
       "    <tr>\n",
       "      <th>689</th>\n",
       "      <td>1</td>\n",
       "      <td>1</td>\n",
       "      <td>0.986553</td>\n",
       "    </tr>\n",
       "    <tr>\n",
       "      <th>716</th>\n",
       "      <td>1</td>\n",
       "      <td>1</td>\n",
       "      <td>0.966841</td>\n",
       "    </tr>\n",
       "    <tr>\n",
       "      <th>307</th>\n",
       "      <td>1</td>\n",
       "      <td>1</td>\n",
       "      <td>0.962675</td>\n",
       "    </tr>\n",
       "    <tr>\n",
       "      <th>136</th>\n",
       "      <td>1</td>\n",
       "      <td>1</td>\n",
       "      <td>0.961685</td>\n",
       "    </tr>\n",
       "    <tr>\n",
       "      <th>887</th>\n",
       "      <td>1</td>\n",
       "      <td>1</td>\n",
       "      <td>0.960250</td>\n",
       "    </tr>\n",
       "    <tr>\n",
       "      <th>...</th>\n",
       "      <td>...</td>\n",
       "      <td>...</td>\n",
       "      <td>...</td>\n",
       "    </tr>\n",
       "    <tr>\n",
       "      <th>406</th>\n",
       "      <td>0</td>\n",
       "      <td>0</td>\n",
       "      <td>0.054444</td>\n",
       "    </tr>\n",
       "    <tr>\n",
       "      <th>631</th>\n",
       "      <td>0</td>\n",
       "      <td>0</td>\n",
       "      <td>0.054264</td>\n",
       "    </tr>\n",
       "    <tr>\n",
       "      <th>59</th>\n",
       "      <td>0</td>\n",
       "      <td>0</td>\n",
       "      <td>0.047969</td>\n",
       "    </tr>\n",
       "    <tr>\n",
       "      <th>94</th>\n",
       "      <td>0</td>\n",
       "      <td>0</td>\n",
       "      <td>0.039291</td>\n",
       "    </tr>\n",
       "    <tr>\n",
       "      <th>280</th>\n",
       "      <td>0</td>\n",
       "      <td>0</td>\n",
       "      <td>0.030836</td>\n",
       "    </tr>\n",
       "  </tbody>\n",
       "</table>\n",
       "<p>215 rows × 3 columns</p>\n",
       "</div>"
      ],
      "text/plain": [
       "     Actual  Predicted  Probability\n",
       "689       1          1     0.986553\n",
       "716       1          1     0.966841\n",
       "307       1          1     0.962675\n",
       "136       1          1     0.961685\n",
       "887       1          1     0.960250\n",
       "..      ...        ...          ...\n",
       "406       0          0     0.054444\n",
       "631       0          0     0.054264\n",
       "59        0          0     0.047969\n",
       "94        0          0     0.039291\n",
       "280       0          0     0.030836\n",
       "\n",
       "[215 rows x 3 columns]"
      ]
     },
     "execution_count": 245,
     "metadata": {},
     "output_type": "execute_result"
    }
   ],
   "source": [
    "comparison_df = pd.DataFrame({\n",
    "    'Actual': y_test,\n",
    "    'Predicted': y_pred,\n",
    "    'Probability': y_pred_proba\n",
    "})\n",
    "comparison_df = comparison_df.sort_values('Probability', ascending=False)\n",
    "comparison_df"
   ]
  },
  {
   "cell_type": "code",
   "execution_count": 249,
   "metadata": {},
   "outputs": [],
   "source": [
    "P = comparison_df['Actual'].value_counts()[1]\n",
    "N = comparison_df['Actual'].value_counts()[0]"
   ]
  },
  {
   "cell_type": "code",
   "execution_count": null,
   "metadata": {},
   "outputs": [],
   "source": []
  }
 ],
 "metadata": {
  "colab": {
   "include_colab_link": true,
   "provenance": []
  },
  "kernelspec": {
   "display_name": "Python 3 (ipykernel)",
   "language": "python",
   "name": "python3"
  },
  "language_info": {
   "codemirror_mode": {
    "name": "ipython",
    "version": 3
   },
   "file_extension": ".py",
   "mimetype": "text/x-python",
   "name": "python",
   "nbconvert_exporter": "python",
   "pygments_lexer": "ipython3",
   "version": "3.12.2"
  }
 },
 "nbformat": 4,
 "nbformat_minor": 4
}
