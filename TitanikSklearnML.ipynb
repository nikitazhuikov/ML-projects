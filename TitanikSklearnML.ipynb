{
 "cells": [
  {
   "cell_type": "markdown",
   "metadata": {
    "colab_type": "text",
    "id": "view-in-github"
   },
   "source": [
    "<a href=\"https://colab.research.google.com/github/nikitazhuikov/ML-projects/blob/main/TitanikSklearnML.ipynb\" target=\"_parent\"><img src=\"https://colab.research.google.com/assets/colab-badge.svg\" alt=\"Open In Colab\"/></a>"
   ]
  },
  {
   "cell_type": "code",
   "execution_count": 205,
   "metadata": {
    "id": "i3kBDpK7XAJc"
   },
   "outputs": [],
   "source": [
    "import numpy as np\n",
    "import pandas as pd\n",
    "import seaborn as sns\n",
    "from sklearn.model_selection import train_test_split\n",
    "from sklearn.preprocessing import StandardScaler\n",
    "from sklearn.linear_model import LogisticRegression"
   ]
  },
  {
   "cell_type": "code",
   "execution_count": 206,
   "metadata": {
    "id": "jvV27j93X3Ie"
   },
   "outputs": [],
   "source": [
    "import mlflow\n",
    "import mlflow.sklearn\n",
    "from mlflow.models import infer_signature"
   ]
  },
  {
   "cell_type": "code",
   "execution_count": 207,
   "metadata": {
    "id": "R1ra_4N0XAJd"
   },
   "outputs": [],
   "source": [
    "titanic_df = pd.read_csv('Titanic-Dataset.csv', usecols=['Pclass', 'Survived', 'Sex', 'Age', 'SibSp', 'Parch', 'Fare', 'Embarked'])\n",
    "titanic_df['Sex'] = pd.factorize(titanic_df['Sex'])[0]\n",
    "titanic_df['Embarked'] = pd.factorize(titanic_df['Embarked'])[0]\n",
    "titanic_df = titanic_df.dropna()\n",
    "numerical_cols = titanic_df[['Age', 'Fare']].columns"
   ]
  },
  {
   "cell_type": "code",
   "execution_count": 208,
   "metadata": {
    "colab": {
     "base_uri": "https://localhost:8080/"
    },
    "id": "EvEUUpuPeUkm",
    "outputId": "90f9ab63-bd07-4369-b5de-bc9e749fb462"
   },
   "outputs": [],
   "source": [
    "# нормализация\n",
    "titanic_df[numerical_cols] = StandardScaler().fit_transform(titanic_df[numerical_cols])"
   ]
  },
  {
   "cell_type": "code",
   "execution_count": 209,
   "metadata": {
    "id": "B0mIya-qXAJf"
   },
   "outputs": [],
   "source": [
    "x = titanic_df.drop('Survived', axis = 1)"
   ]
  },
  {
   "cell_type": "code",
   "execution_count": 210,
   "metadata": {},
   "outputs": [
    {
     "data": {
      "text/plain": [
       "<Experiment: artifact_location='mlflow-artifacts:/189883142389238581', creation_time=1743612627305, experiment_id='189883142389238581', last_update_time=1743612627305, lifecycle_stage='active', name='log_reg', tags={}>"
      ]
     },
     "execution_count": 210,
     "metadata": {},
     "output_type": "execute_result"
    }
   ],
   "source": [
    "mlflow.set_tracking_uri(\"http://127.0.0.1:5001\")\n",
    "mlflow.set_experiment(\"log_reg\")\n"
   ]
  },
  {
   "cell_type": "code",
   "execution_count": 211,
   "metadata": {
    "id": "pkLl0wlPXAJf"
   },
   "outputs": [],
   "source": [
    "y = titanic_df['Survived']"
   ]
  },
  {
   "cell_type": "code",
   "execution_count": 212,
   "metadata": {
    "id": "S_lHVoAyXAJf"
   },
   "outputs": [],
   "source": [
    "x_train, x_test, y_train,  y_test = train_test_split(x, y, test_size=0.3)\n",
    "# x_val, x_test, y_val, y_test = train_test_split(x_test, y_test, test_size=0.5)"
   ]
  },
  {
   "cell_type": "code",
   "execution_count": 213,
   "metadata": {},
   "outputs": [
    {
     "name": "stdout",
     "output_type": "stream",
     "text": [
      "🏃 View run Log_reg_100 at: http://127.0.0.1:5001/#/experiments/189883142389238581/runs/0458dcf18bc043458310ff8f12630d51\n",
      "🧪 View experiment at: http://127.0.0.1:5001/#/experiments/189883142389238581\n"
     ]
    }
   ],
   "source": [
    "with mlflow.start_run(run_name=\"Log_reg_100\"):\n",
    "    mdl = LogisticRegression(max_iter=100)\n",
    "    mdl.fit(x_train, y_train)\n",
    "    y_pred = mdl.predict(x_test)\n",
    "    TP = ((y_test == 1) & (y_pred == 1)).sum()\n",
    "    TN = ((y_test == 0) & (y_pred == 0)).sum()\n",
    "    FP = ((y_test == 0) & (y_pred == 1)).sum()\n",
    "    FN = ((y_test == 1) & (y_pred == 0)).sum()\n",
    "    metrics = {\n",
    "        'accuracy': (TP + TN)/(TP + TN + FP + FN),\n",
    "        'precision': TP  / (TP + FP),\n",
    "        'recall': TP / (TP + FP),\n",
    "        'sensitivity': TP / (TP + FN)\n",
    "    }\n",
    "    mlflow.log_metrics(metrics)"
   ]
  },
  {
   "cell_type": "code",
   "execution_count": 214,
   "metadata": {
    "id": "BO6J1tjdOHRC"
   },
   "outputs": [],
   "source": [
    "accuracy = (TP + TN)/(TP + TN + FP + FN)\n",
    "precision = TP  / (TP + FP)\n",
    "recall = TP / (TP + FP)\n",
    "sensitivity = TP / (TP + FN)"
   ]
  },
  {
   "cell_type": "code",
   "execution_count": 215,
   "metadata": {
    "colab": {
     "base_uri": "https://localhost:8080/"
    },
    "id": "YZaXK89xQRCV",
    "outputId": "d2f37fcb-cc83-4f72-f8f2-0e4550caaec6"
   },
   "outputs": [
    {
     "name": "stdout",
     "output_type": "stream",
     "text": [
      "accuracy: 0.7581395348837209\n",
      "precision: 0.7164179104477612\n",
      "recall: 0.7164179104477612\n",
      "sensitivity: 0.5925925925925926\n"
     ]
    }
   ],
   "source": [
    "print('accuracy:', accuracy)\n",
    "print('precision:', precision)\n",
    "print('recall:', recall)\n",
    "print('sensitivity:', sensitivity)"
   ]
  },
  {
   "cell_type": "code",
   "execution_count": null,
   "metadata": {
    "id": "lU4DPXWSXAJv"
   },
   "outputs": [],
   "source": []
  }
 ],
 "metadata": {
  "colab": {
   "include_colab_link": true,
   "provenance": []
  },
  "kernelspec": {
   "display_name": "Python 3 (ipykernel)",
   "language": "python",
   "name": "python3"
  },
  "language_info": {
   "codemirror_mode": {
    "name": "ipython",
    "version": 3
   },
   "file_extension": ".py",
   "mimetype": "text/x-python",
   "name": "python",
   "nbconvert_exporter": "python",
   "pygments_lexer": "ipython3",
   "version": "3.12.2"
  }
 },
 "nbformat": 4,
 "nbformat_minor": 4
}
