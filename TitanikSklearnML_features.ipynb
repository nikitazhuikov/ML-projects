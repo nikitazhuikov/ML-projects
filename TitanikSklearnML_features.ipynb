{
 "cells": [
  {
   "cell_type": "markdown",
   "metadata": {
    "colab_type": "text",
    "id": "view-in-github"
   },
   "source": [
    "<a href=\"https://colab.research.google.com/github/nikitazhuikov/ML-projects/blob/main/TitanikSklearnML.ipynb\" target=\"_parent\"><img src=\"https://colab.research.google.com/assets/colab-badge.svg\" alt=\"Open In Colab\"/></a>"
   ]
  },
  {
   "cell_type": "code",
   "execution_count": 2,
   "metadata": {
    "id": "i3kBDpK7XAJc"
   },
   "outputs": [],
   "source": [
    "import numpy as np\n",
    "import pandas as pd\n",
    "import seaborn as sns\n",
    "import matplotlib.pyplot as plt\n",
    "from sklearn.model_selection import train_test_split\n",
    "from sklearn.preprocessing import StandardScaler\n",
    "from sklearn.linear_model import LogisticRegression"
   ]
  },
  {
   "cell_type": "code",
   "execution_count": 24,
   "metadata": {},
   "outputs": [
    {
     "ename": "ModuleNotFoundError",
     "evalue": "No module named 'tpot'",
     "output_type": "error",
     "traceback": [
      "\u001b[1;31m---------------------------------------------------------------------------\u001b[0m",
      "\u001b[1;31mModuleNotFoundError\u001b[0m                       Traceback (most recent call last)",
      "Cell \u001b[1;32mIn[24], line 1\u001b[0m\n\u001b[1;32m----> 1\u001b[0m \u001b[38;5;28;01mimport\u001b[39;00m \u001b[38;5;21;01mtpot\u001b[39;00m\n",
      "\u001b[1;31mModuleNotFoundError\u001b[0m: No module named 'tpot'"
     ]
    }
   ],
   "source": [
    "import tpot"
   ]
  },
  {
   "cell_type": "code",
   "execution_count": 3,
   "metadata": {
    "id": "jvV27j93X3Ie"
   },
   "outputs": [],
   "source": [
    "import mlflow\n",
    "import mlflow.sklearn\n",
    "from mlflow.models import infer_signature"
   ]
  },
  {
   "cell_type": "code",
   "execution_count": 6,
   "metadata": {
    "id": "R1ra_4N0XAJd"
   },
   "outputs": [],
   "source": [
    "titanic_df = pd.read_csv('Titanic-Dataset.csv', usecols=['Pclass', 'Survived', 'Sex', 'Age', 'SibSp', 'Parch', 'Fare', 'Embarked'])\n",
    "embarked_mode = titanic_df['Embarked'].mode()[0]\n",
    "titanic_df['Embarked'].fillna(embarked_mode, inplace=True)\n",
    "age_median = titanic_df['Age'].median()\n",
    "titanic_df['Age'].fillna(age_median, inplace=True)\n",
    "titanic_df['Sex'] = pd.factorize(titanic_df['Sex'])[0]\n",
    "# Создание FamilySize\n",
    "titanic_df['FamilySize'] = titanic_df['SibSp'] + titanic_df['Parch'] + 1\n",
    "# Создание IsAlone\n",
    "titanic_df['IsAlone'] = (titanic_df['FamilySize'] == 1).astype(int)\n",
    "titanic_df = pd.get_dummies(titanic_df, columns=['Embarked', 'Pclass'], drop_first=True)\n",
    "numerical_cols = titanic_df[['Age', 'Fare', 'FamilySize']].columns\n",
    "titanic_df = titanic_df.drop(['SibSp', 'Parch'], axis=1)"
   ]
  },
  {
   "cell_type": "code",
   "execution_count": 7,
   "metadata": {
    "colab": {
     "base_uri": "https://localhost:8080/"
    },
    "id": "EvEUUpuPeUkm",
    "outputId": "90f9ab63-bd07-4369-b5de-bc9e749fb462"
   },
   "outputs": [],
   "source": [
    "# нормализация\n",
    "titanic_df[numerical_cols] = StandardScaler().fit_transform(titanic_df[numerical_cols])"
   ]
  },
  {
   "cell_type": "code",
   "execution_count": 8,
   "metadata": {},
   "outputs": [
    {
     "name": "stdout",
     "output_type": "stream",
     "text": [
      "   Survived  Sex       Age      Fare  FamilySize  IsAlone  Embarked_Q   \n",
      "0         0    0 -0.565736 -0.502445    0.059160        0       False  \\\n",
      "1         1    1  0.663861  0.786845    0.059160        0       False   \n",
      "2         1    1 -0.258337 -0.488854   -0.560975        1       False   \n",
      "3         1    1  0.433312  0.420730    0.059160        0       False   \n",
      "4         0    0  0.433312 -0.486337   -0.560975        1       False   \n",
      "\n",
      "   Embarked_S  Pclass_2  Pclass_3  \n",
      "0        True     False      True  \n",
      "1       False     False     False  \n",
      "2        True     False      True  \n",
      "3        True     False     False  \n",
      "4        True     False      True  \n"
     ]
    }
   ],
   "source": [
    "print(titanic_df.head())"
   ]
  },
  {
   "cell_type": "code",
   "execution_count": 9,
   "metadata": {
    "id": "B0mIya-qXAJf"
   },
   "outputs": [],
   "source": [
    "x = titanic_df.drop('Survived', axis = 1)"
   ]
  },
  {
   "cell_type": "code",
   "execution_count": 10,
   "metadata": {
    "id": "pkLl0wlPXAJf"
   },
   "outputs": [],
   "source": [
    "y = titanic_df['Survived']"
   ]
  },
  {
   "cell_type": "code",
   "execution_count": 11,
   "metadata": {
    "id": "S_lHVoAyXAJf"
   },
   "outputs": [],
   "source": [
    "x_train, x_test, y_train,  y_test = train_test_split(x, y, test_size=0.3)\n",
    "# x_val, x_test, y_val, y_test = train_test_split(x_test, y_test, test_size=0.5)"
   ]
  },
  {
   "cell_type": "code",
   "execution_count": 12,
   "metadata": {},
   "outputs": [],
   "source": [
    "mdl = LogisticRegression(max_iter=100)\n",
    "mdl.fit(x_train, y_train)\n",
    "y_pred = mdl.predict(x_test)\n",
    "TP = ((y_test == 1) & (y_pred == 1)).sum()\n",
    "TN = ((y_test == 0) & (y_pred == 0)).sum()\n",
    "FP = ((y_test == 0) & (y_pred == 1)).sum()\n",
    "FN = ((y_test == 1) & (y_pred == 0)).sum()"
   ]
  },
  {
   "cell_type": "code",
   "execution_count": 13,
   "metadata": {
    "id": "BO6J1tjdOHRC"
   },
   "outputs": [],
   "source": [
    "accuracy = (TP + TN)/(TP + TN + FP + FN)\n",
    "precision = TP  / (TP + FP)\n",
    "recall = TP / (TP + FP)\n",
    "sensitivity = TP / (TP + FN)"
   ]
  },
  {
   "cell_type": "code",
   "execution_count": 14,
   "metadata": {
    "colab": {
     "base_uri": "https://localhost:8080/"
    },
    "id": "YZaXK89xQRCV",
    "outputId": "d2f37fcb-cc83-4f72-f8f2-0e4550caaec6"
   },
   "outputs": [
    {
     "name": "stdout",
     "output_type": "stream",
     "text": [
      "accuracy: 0.7723880597014925\n",
      "precision: 0.7052631578947368\n",
      "recall: 0.7052631578947368\n",
      "sensitivity: 0.67\n"
     ]
    }
   ],
   "source": [
    "print('accuracy:', accuracy)\n",
    "print('precision:', precision)\n",
    "print('recall:', recall)\n",
    "print('sensitivity:', sensitivity)"
   ]
  },
  {
   "cell_type": "code",
   "execution_count": 15,
   "metadata": {
    "id": "lU4DPXWSXAJv"
   },
   "outputs": [],
   "source": [
    "# считаем ROC-AUC\n",
    "y_pred_proba = mdl.predict_proba(x_test)[:, 1]"
   ]
  },
  {
   "cell_type": "code",
   "execution_count": 16,
   "metadata": {},
   "outputs": [
    {
     "data": {
      "text/html": [
       "<div>\n",
       "<style scoped>\n",
       "    .dataframe tbody tr th:only-of-type {\n",
       "        vertical-align: middle;\n",
       "    }\n",
       "\n",
       "    .dataframe tbody tr th {\n",
       "        vertical-align: top;\n",
       "    }\n",
       "\n",
       "    .dataframe thead th {\n",
       "        text-align: right;\n",
       "    }\n",
       "</style>\n",
       "<table border=\"1\" class=\"dataframe\">\n",
       "  <thead>\n",
       "    <tr style=\"text-align: right;\">\n",
       "      <th></th>\n",
       "      <th>Actual</th>\n",
       "      <th>Predicted</th>\n",
       "      <th>Probability</th>\n",
       "    </tr>\n",
       "  </thead>\n",
       "  <tbody>\n",
       "    <tr>\n",
       "      <th>700</th>\n",
       "      <td>1</td>\n",
       "      <td>1</td>\n",
       "      <td>0.980041</td>\n",
       "    </tr>\n",
       "    <tr>\n",
       "      <th>329</th>\n",
       "      <td>1</td>\n",
       "      <td>1</td>\n",
       "      <td>0.971109</td>\n",
       "    </tr>\n",
       "    <tr>\n",
       "      <th>31</th>\n",
       "      <td>1</td>\n",
       "      <td>1</td>\n",
       "      <td>0.964177</td>\n",
       "    </tr>\n",
       "    <tr>\n",
       "      <th>849</th>\n",
       "      <td>1</td>\n",
       "      <td>1</td>\n",
       "      <td>0.958448</td>\n",
       "    </tr>\n",
       "    <tr>\n",
       "      <th>9</th>\n",
       "      <td>1</td>\n",
       "      <td>1</td>\n",
       "      <td>0.954751</td>\n",
       "    </tr>\n",
       "    <tr>\n",
       "      <th>...</th>\n",
       "      <td>...</td>\n",
       "      <td>...</td>\n",
       "      <td>...</td>\n",
       "    </tr>\n",
       "    <tr>\n",
       "      <th>280</th>\n",
       "      <td>0</td>\n",
       "      <td>0</td>\n",
       "      <td>0.033062</td>\n",
       "    </tr>\n",
       "    <tr>\n",
       "      <th>116</th>\n",
       "      <td>0</td>\n",
       "      <td>0</td>\n",
       "      <td>0.026944</td>\n",
       "    </tr>\n",
       "    <tr>\n",
       "      <th>683</th>\n",
       "      <td>0</td>\n",
       "      <td>0</td>\n",
       "      <td>0.024276</td>\n",
       "    </tr>\n",
       "    <tr>\n",
       "      <th>360</th>\n",
       "      <td>0</td>\n",
       "      <td>0</td>\n",
       "      <td>0.018188</td>\n",
       "    </tr>\n",
       "    <tr>\n",
       "      <th>324</th>\n",
       "      <td>0</td>\n",
       "      <td>0</td>\n",
       "      <td>0.004969</td>\n",
       "    </tr>\n",
       "  </tbody>\n",
       "</table>\n",
       "<p>268 rows × 3 columns</p>\n",
       "</div>"
      ],
      "text/plain": [
       "     Actual  Predicted  Probability\n",
       "700       1          1     0.980041\n",
       "329       1          1     0.971109\n",
       "31        1          1     0.964177\n",
       "849       1          1     0.958448\n",
       "9         1          1     0.954751\n",
       "..      ...        ...          ...\n",
       "280       0          0     0.033062\n",
       "116       0          0     0.026944\n",
       "683       0          0     0.024276\n",
       "360       0          0     0.018188\n",
       "324       0          0     0.004969\n",
       "\n",
       "[268 rows x 3 columns]"
      ]
     },
     "execution_count": 16,
     "metadata": {},
     "output_type": "execute_result"
    }
   ],
   "source": [
    "comparison_df = pd.DataFrame({\n",
    "    'Actual': y_test,\n",
    "    'Predicted': y_pred,\n",
    "    'Probability': y_pred_proba\n",
    "})\n",
    "comparison_df = comparison_df.sort_values('Probability', ascending=False)\n",
    "comparison_df"
   ]
  },
  {
   "cell_type": "code",
   "execution_count": 17,
   "metadata": {},
   "outputs": [],
   "source": [
    "P = comparison_df['Actual'].value_counts()[1]\n",
    "N = comparison_df['Actual'].value_counts()[0]"
   ]
  },
  {
   "cell_type": "code",
   "execution_count": 18,
   "metadata": {},
   "outputs": [
    {
     "data": {
      "image/png": "[encoded data removed]",
      "text/plain": [
       "<Figure size 800x800 with 1 Axes>"
      ]
     },
     "metadata": {},
     "output_type": "display_data"
    }
   ],
   "source": [
    "y = 0\n",
    "x = 0\n",
    "X = [x]\n",
    "Y = [y]\n",
    "for a in comparison_df['Actual']:\n",
    "    if a == 1:\n",
    "        y += 1/P\n",
    "    else:\n",
    "        x += 1/N\n",
    "    X.append(x)\n",
    "    Y.append(y)\n",
    "# Строим график\n",
    "plt.figure(figsize=(8, 8))\n",
    "plt.plot(X, Y, 'b-', label='ROC кривая')\n",
    "plt.plot([0, 1], [0, 1], 'r--', label='Случайный классификатор')\n",
    "plt.xlabel('False Positive Rate')\n",
    "plt.ylabel('True Positive Rate')\n",
    "plt.title('ROC-кривая для модели Титаник')\n",
    "plt.legend()\n",
    "plt.grid(True)\n",
    "plt.show()       \n",
    "       \n",
    "\n",
    "      "
   ]
  },
  {
   "cell_type": "code",
   "execution_count": 19,
   "metadata": {},
   "outputs": [
    {
     "ename": "ModuleNotFoundError",
     "evalue": "No module named 'tpot'",
     "output_type": "error",
     "traceback": [
      "\u001b[1;31m---------------------------------------------------------------------------\u001b[0m",
      "\u001b[1;31mModuleNotFoundError\u001b[0m                       Traceback (most recent call last)",
      "Cell \u001b[1;32mIn[19], line 1\u001b[0m\n\u001b[1;32m----> 1\u001b[0m \u001b[38;5;28;01mfrom\u001b[39;00m \u001b[38;5;21;01mtpot\u001b[39;00m \u001b[38;5;28;01mimport\u001b[39;00m TPOTClassifier\n\u001b[0;32m      2\u001b[0m \u001b[38;5;28;01mimport\u001b[39;00m \u001b[38;5;21;01mmlflow\u001b[39;00m\n\u001b[0;32m      3\u001b[0m \u001b[38;5;28;01mfrom\u001b[39;00m \u001b[38;5;21;01msklearn\u001b[39;00m\u001b[38;5;21;01m.\u001b[39;00m\u001b[38;5;21;01mmetrics\u001b[39;00m \u001b[38;5;28;01mimport\u001b[39;00m accuracy_score, precision_score, recall_score, roc_auc_score\n",
      "\u001b[1;31mModuleNotFoundError\u001b[0m: No module named 'tpot'"
     ]
    }
   ],
   "source": [
    "from tpot import TPOTClassifier\n",
    "import mlflow\n",
    "from sklearn.metrics import accuracy_score, precision_score, recall_score, roc_auc_score\n",
    "\n",
    "# Создаем и настраиваем TPOT\n",
    "tpot = TPOTClassifier(\n",
    "    generations=5,  # количество поколений для оптимизации\n",
    "    population_size=20,  # размер популяции в каждом поколении\n",
    "    cv=5,  # количество фолдов для кросс-валидации\n",
    "    random_state=42,\n",
    "    verbosity=2,\n",
    "    n_jobs=-1  # использовать все доступные ядра процессора\n",
    ")\n",
    "\n",
    "# Запускаем MLflow эксперимент для отслеживания результатов\n",
    "with mlflow.start_run(run_name=\"TPOT_AutoML\"):\n",
    "    # Обучаем TPOT\n",
    "    tpot.fit(x_train, y_train)\n",
    "    \n",
    "    # Получаем предсказания\n",
    "    y_pred_auto = tpot.predict(x_test)\n",
    "    y_pred_proba_auto = tpot.predict_proba(x_test)[:, 1]\n",
    "    \n",
    "    # Вычисляем метрики\n",
    "    metrics = {\n",
    "        'accuracy': accuracy_score(y_test, y_pred_auto),\n",
    "        'precision': precision_score(y_test, y_pred_auto),\n",
    "        'recall': recall_score(y_test, y_pred_auto),\n",
    "        'roc_auc': roc_auc_score(y_test, y_pred_proba_auto)\n",
    "    }\n",
    "    \n",
    "    # Логируем метрики\n",
    "    mlflow.log_metrics(metrics)\n",
    "    \n",
    "    # Сохраняем лучший пайплайн\n",
    "    mlflow.sklearn.log_model(tpot.fitted_pipeline_, \"tpot_best_model\")\n",
    "    \n",
    "    # Выводим результаты\n",
    "    print(\"\\nЛучший пайплайн:\")\n",
    "    print(tpot.fitted_pipeline_)\n",
    "    print(\"\\nМетрики на тестовом наборе:\")\n",
    "    for metric_name, metric_value in metrics.items():\n",
    "        print(f\"{metric_name}: {metric_value:.3f}\")\n",
    "\n",
    "# Построение ROC-кривой для сравнения моделей\n",
    "plt.figure(figsize=(10, 8))\n",
    "\n",
    "# ROC-кривая для базовой модели\n",
    "fpr_base, tpr_base, _ = roc_curve(y_test, y_pred_proba)\n",
    "plt.plot(fpr_base, tpr_base, 'b-', label=f'Базовая модель (AUC = {roc_auc_score(y_test, y_pred_proba):.3f})')\n",
    "\n",
    "# ROC-кривая для AutoML модели\n",
    "fpr_auto, tpr_auto, _ = roc_curve(y_test, y_pred_proba_auto)\n",
    "plt.plot(fpr_auto, tpr_auto, 'r-', label=f'AutoML модель (AUC = {metrics[\"roc_auc\"]:.3f})')\n",
    "\n",
    "plt.plot([0, 1], [0, 1], 'k--', label='Случайный классификатор')\n",
    "plt.xlabel('False Positive Rate')\n",
    "plt.ylabel('True Positive Rate')\n",
    "plt.title('Сравнение ROC-кривых базовой и AutoML моделей')\n",
    "plt.legend()\n",
    "plt.grid(True)\n",
    "plt.show()\n",
    "\n"
   ]
  }
 ],
 "metadata": {
  "colab": {
   "include_colab_link": true,
   "provenance": []
  },
  "kernelspec": {
   "display_name": "Python 3",
   "language": "python",
   "name": "python3"
  },
  "language_info": {
   "codemirror_mode": {
    "name": "ipython",
    "version": 3
   },
   "file_extension": ".py",
   "mimetype": "text/x-python",
   "name": "python",
   "nbconvert_exporter": "python",
   "pygments_lexer": "ipython3",
   "version": "3.11.0"
  }
 },
 "nbformat": 4,
 "nbformat_minor": 4
}
